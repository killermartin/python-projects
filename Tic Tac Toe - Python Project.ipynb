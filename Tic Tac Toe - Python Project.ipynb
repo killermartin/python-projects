{
 "cells": [
  {
   "cell_type": "code",
   "execution_count": 1,
   "metadata": {
    "collapsed": true
   },
   "outputs": [],
   "source": [
    "\n",
    "\n",
    "\n",
    "from IPython.display import clear_output\n",
    "\n",
    "def display_board(board):\n",
    "    \n",
    "    clear_output()\n",
    "    print('     |     |    ')\n",
    "    print('  '+board[7]+'  |  '+board[8]+'  |  '+board[9]+'  ')\n",
    "    print('-----|-----|-----')\n",
    "    print('  '+board[4]+'  |  '+board[5]+'  |  '+board[6]+'  ')\n",
    "    print('-----|-----|-----')\n",
    "    print('  '+board[1]+'  |  '+board[2]+'  |  '+board[3]+'  ')\n",
    "    print('     |     |     ')"
   ]
  },
  {
   "cell_type": "code",
   "execution_count": 2,
   "metadata": {
    "collapsed": true
   },
   "outputs": [],
   "source": [
    "def player_input():\n",
    "    \n",
    "    marker=''\n",
    "    #Asking player 1 for X or O\n",
    "    \n",
    "    while marker != 'X' and marker !='O':\n",
    "        marker = input(\"Please pick a marker 'X' or 'O' : \")\n",
    "    \n",
    "    player1=marker\n",
    "    #Assigning player 2 with the opposite value\n",
    "    if player1 == 'X':\n",
    "        player2='O'\n",
    "    else:\n",
    "        player2='X'\n",
    "        \n",
    "    return (player1,player2)"
   ]
  },
  {
   "cell_type": "code",
   "execution_count": 3,
   "metadata": {
    "collapsed": true
   },
   "outputs": [],
   "source": [
    "def place_marker(board, marker, position):\n",
    "    \n",
    "    \n",
    "    \n",
    "    board[position]=marker"
   ]
  },
  {
   "cell_type": "code",
   "execution_count": 4,
   "metadata": {
    "collapsed": true
   },
   "outputs": [],
   "source": [
    "def win_check(board, mark):\n",
    "    \n",
    "    return ((board[7]==mark and board[8]==mark and board[9]==mark)or #across top (vertical)\n",
    "            (board[4]==mark and board[5]==mark and board[6]==mark)or   #across middle\n",
    "            (board[1]==mark and board[2]==mark and board[3]==mark)  or  #across bottom\n",
    "            (board[7]==mark and board[4]==mark and board[1]==mark) or   #across left (horizontal)\n",
    "            (board[8]==mark and board[5]==mark and board[2]==mark)  or   #across middle \n",
    "            (board[9]==mark and board[6]==mark and board[3]==mark)   or   #accross right\n",
    "            (board[7]==mark and board[5]==mark and board[3]==mark)   or  #diagonal\n",
    "            (board[1]==mark and board[5]==mark and board[9]==mark))      #diagonal"
   ]
  },
  {
   "cell_type": "code",
   "execution_count": 5,
   "metadata": {
    "collapsed": true
   },
   "outputs": [],
   "source": [
    "import random\n",
    "\n",
    "\n",
    "def choose_first():\n",
    "    c=random.randint(1,2)\n",
    "    if c==1:\n",
    "        return 'Player 1'\n",
    "    else:\n",
    "        return 'Player 2'"
   ]
  },
  {
   "cell_type": "code",
   "execution_count": 6,
   "metadata": {
    "collapsed": true
   },
   "outputs": [],
   "source": [
    "def space_check(board, position):\n",
    "    \n",
    "    if board[position]==' ':\n",
    "        return True\n",
    "    else:\n",
    "        return False\n",
    "    "
   ]
  },
  {
   "cell_type": "code",
   "execution_count": 7,
   "metadata": {
    "collapsed": true
   },
   "outputs": [],
   "source": [
    "def full_board_check(board):\n",
    "    \n",
    "    for i in range(1,10):\n",
    "        if space_check(board,i):\n",
    "            return False\n",
    "    return True"
   ]
  },
  {
   "cell_type": "code",
   "execution_count": 8,
   "metadata": {
    "collapsed": true
   },
   "outputs": [],
   "source": [
    "def player_choice(board):\n",
    "    \n",
    "    value=0\n",
    "    \n",
    "    while value not in [1,2,3,4,5,6,7,8,9] or not space_check(board,value):\n",
    "        value=int(input('Please play your turn: '))\n",
    "        \n",
    "    return value\n",
    "    "
   ]
  },
  {
   "cell_type": "code",
   "execution_count": 9,
   "metadata": {
    "collapsed": true
   },
   "outputs": [],
   "source": [
    "def replay():\n",
    "    \n",
    "    play=input('Do you want to play again? : (Yes/No): ').lower()\n",
    "    \n",
    "    if play== 'no':\n",
    "        return True\n",
    "    \n",
    "    "
   ]
  },
  {
   "cell_type": "code",
   "execution_count": 10,
   "metadata": {},
   "outputs": [
    {
     "name": "stdout",
     "output_type": "stream",
     "text": [
      "     |     |    \n",
      "  O  |  X  |  O  \n",
      "-----|-----|-----\n",
      "  X  |  O  |  O  \n",
      "-----|-----|-----\n",
      "  X  |     |  X  \n",
      "     |     |     \n",
      "Please play your turn: 2\n",
      "Congratulations! Player 1 won the game \n",
      "Do you want to play again? : (Yes/No): no\n"
     ]
    }
   ],
   "source": [
    "print('Welcome to Tic Tac Toe!')\n",
    "\n",
    "while True:\n",
    "    # Set the game up here\n",
    "    #pass\n",
    "    \n",
    "    theBoard=[' ']*10\n",
    "    \n",
    "    \n",
    "    play_game= input('Are you ready to play this game? Yes or No' )  \n",
    "    if play_game.lower()[0] == 'y':\n",
    "        game_on = True\n",
    "    else:\n",
    "        game_on = False\n",
    "        \n",
    "    \n",
    "    turn=choose_first()\n",
    "    print(turn+' goes first')\n",
    "        \n",
    "    player_1,player_2 = player_input()\n",
    "    \n",
    "    \n",
    "    \n",
    "\n",
    "    while game_on:\n",
    "        #Player 1 Turn\n",
    "        \n",
    "        if turn=='Player 1':\n",
    "            display_board(theBoard)\n",
    "            position=player_choice(theBoard)\n",
    "            place_marker(theBoard, player_1, position)\n",
    "            \n",
    "            if win_check(theBoard, player_1):\n",
    "                print('Congratulations! Player 1 won the game ')\n",
    "                game_on=False\n",
    "                \n",
    "            else:\n",
    "                if full_board_check(theBoard):\n",
    "                    print('The match is draw')\n",
    "                    break\n",
    "                    \n",
    "                else:\n",
    "                    turn='Player 2'\n",
    "        \n",
    "        \n",
    "        # Player2's turn.\n",
    "            \n",
    "            if turn=='Player 2':\n",
    "                display_board(theBoard)\n",
    "                position=player_choice(theBoard)\n",
    "                place_marker(theBoard, player_2, position)\n",
    "            \n",
    "                if win_check(theBoard, player_2):\n",
    "                    print('Congratulations! Player 2 won the game ')\n",
    "                    game_on=False\n",
    "                \n",
    "                else:\n",
    "                    if full_board_check(theBoard):\n",
    "                        print('The match is draw')\n",
    "                        break\n",
    "                    \n",
    "                    else:\n",
    "                        turn='Player 1'\n",
    "        \n",
    "        \n",
    "            #pass\n",
    "\n",
    "    if not replay():\n",
    "        break"
   ]
  },
  {
   "cell_type": "code",
   "execution_count": null,
   "metadata": {
    "collapsed": true
   },
   "outputs": [],
   "source": []
  }
 ],
 "metadata": {
  "kernelspec": {
   "display_name": "Python 3",
   "language": "python",
   "name": "python3"
  },
  "language_info": {
   "codemirror_mode": {
    "name": "ipython",
    "version": 3
   },
   "file_extension": ".py",
   "mimetype": "text/x-python",
   "name": "python",
   "nbconvert_exporter": "python",
   "pygments_lexer": "ipython3",
   "version": "3.6.3"
  }
 },
 "nbformat": 4,
 "nbformat_minor": 2
}
