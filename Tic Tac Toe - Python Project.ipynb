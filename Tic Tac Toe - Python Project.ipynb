{
 "cells": [
  {
   "cell_type": "code",
   "execution_count": 37,
   "metadata": {},
   "outputs": [],
   "source": [
    "\n",
    "\n",
    "\n",
    "from IPython.display import clear_output\n",
    "\n",
    "def display_board(board):\n",
    "    \n",
    "    clear_output()\n",
    "    print('     |     |    ')\n",
    "    print('  '+board[7]+'  |  '+board[8]+'  |  '+board[9]+'  ')\n",
    "    print('-----|-----|-----')\n",
    "    print('  '+board[4]+'  |  '+board[5]+'  |  '+board[6]+'  ')\n",
    "    print('-----|-----|-----')\n",
    "    print('  '+board[1]+'  |  '+board[2]+'  |  '+board[3]+'  ')\n",
    "    print('     |     |     ')"
   ]
  },
  {
   "cell_type": "code",
   "execution_count": 42,
   "metadata": {},
   "outputs": [
    {
     "name": "stdout",
     "output_type": "stream",
     "text": [
      "     |     |    \n",
      "  X  |  O  |  X  \n",
      "-----|-----|-----\n",
      "  O  |  X  |  O  \n",
      "-----|-----|-----\n",
      "  X  |  O  |  X  \n",
      "     |     |     \n"
     ]
    }
   ],
   "source": [
    "test_board = ['#','X','O','X','O','X','O','X','O','X']\n",
    "display_board(test_board)"
   ]
  },
  {
   "cell_type": "code",
   "execution_count": 20,
   "metadata": {},
   "outputs": [],
   "source": [
    "def player_input():\n",
    "    \n",
    "    marker=''\n",
    "    #Asking player 1 for X or O\n",
    "    \n",
    "    while marker != 'X' and marker !='O':\n",
    "        marker = input(\"Please pick a marker 'X' or 'O' : \")\n",
    "    \n",
    "    player1=marker\n",
    "    #Assigning player 2 with the opposite value\n",
    "    if player1 == 'X':\n",
    "        player2='O'\n",
    "    else:\n",
    "        player2='X'\n",
    "        \n",
    "    return (player1,player2)"
   ]
  },
  {
   "cell_type": "code",
   "execution_count": 21,
   "metadata": {},
   "outputs": [
    {
     "name": "stdout",
     "output_type": "stream",
     "text": [
      "Please pick a marker 'X' or 'O' : X\n"
     ]
    },
    {
     "data": {
      "text/plain": [
       "('X', 'O')"
      ]
     },
     "execution_count": 21,
     "metadata": {},
     "output_type": "execute_result"
    }
   ],
   "source": [
    "player_input()"
   ]
  },
  {
   "cell_type": "code",
   "execution_count": 33,
   "metadata": {
    "collapsed": true
   },
   "outputs": [],
   "source": [
    "def place_marker(board, marker, position):\n",
    "    \n",
    "    \n",
    "    \n",
    "    board[position]=marker"
   ]
  },
  {
   "cell_type": "code",
   "execution_count": 35,
   "metadata": {},
   "outputs": [
    {
     "name": "stdout",
     "output_type": "stream",
     "text": [
      "     |     |    \n",
      "     |  $  |  $  \n",
      "-----|-----|-----\n",
      "  $  |     |     \n",
      "-----|-----|-----\n",
      "     |     |     \n",
      "     |     |     \n"
     ]
    }
   ],
   "source": [
    "place_marker(test_board,'$',4)\n",
    "display_board(test_board)"
   ]
  },
  {
   "cell_type": "code",
   "execution_count": 45,
   "metadata": {},
   "outputs": [],
   "source": [
    "def win_check(board, mark):\n",
    "    \n",
    "    return ((board[7]==mark and board[8]==mark and board[9]==mark)or #across top (vertical)\n",
    "            (board[4]==mark and board[5]==mark and board[6]==mark)or   #across middle\n",
    "            (board[1]==mark and board[2]==mark and board[3]==mark)  or  #across bottom\n",
    "            (board[7]==mark and board[4]==mark and board[1]==mark) or   #across left (horizontal)\n",
    "            (board[8]==mark and board[5]==mark and board[2]==mark)  or   #across middle \n",
    "            (board[9]==mark and board[6]==mark and board[3]==mark)   or   #accross right\n",
    "            (board[7]==mark and board[5]==mark and board[3]==mark)   or  #diagonal\n",
    "            (board[1]==mark and board[5]==mark and board[9]==mark))      #diagonal"
   ]
  },
  {
   "cell_type": "code",
   "execution_count": 46,
   "metadata": {},
   "outputs": [
    {
     "data": {
      "text/plain": [
       "True"
      ]
     },
     "execution_count": 46,
     "metadata": {},
     "output_type": "execute_result"
    }
   ],
   "source": [
    "win_check(test_board,'X')"
   ]
  },
  {
   "cell_type": "code",
   "execution_count": 66,
   "metadata": {},
   "outputs": [],
   "source": [
    "import random\n",
    "\n",
    "\n",
    "def choose_first():\n",
    "    c=random.randint(1,2)\n",
    "    if c==1:\n",
    "        print('Player 1 goes first')\n",
    "    else:\n",
    "        print('Player 2 goes first')"
   ]
  },
  {
   "cell_type": "code",
   "execution_count": 71,
   "metadata": {},
   "outputs": [
    {
     "name": "stdout",
     "output_type": "stream",
     "text": [
      "Player 1 goes first\n"
     ]
    }
   ],
   "source": [
    "choose_first()"
   ]
  },
  {
   "cell_type": "code",
   "execution_count": null,
   "metadata": {
    "collapsed": true
   },
   "outputs": [],
   "source": [
    "def space_check(board, position):\n",
    "    \n",
    "    if board[position]==' ':\n",
    "        return True\n",
    "    else:\n",
    "        return False\n",
    "    "
   ]
  },
  {
   "cell_type": "code",
   "execution_count": null,
   "metadata": {
    "collapsed": true
   },
   "outputs": [],
   "source": [
    "def full_board_check(board):\n",
    "    \n",
    "    for i in range(1,10):\n",
    "        if space_check(board,i):\n",
    "            return False\n",
    "    return True"
   ]
  },
  {
   "cell_type": "code",
   "execution_count": null,
   "metadata": {
    "collapsed": true
   },
   "outputs": [],
   "source": [
    "def player_choice(board):\n",
    "    \n",
    "    "
   ]
  }
 ],
 "metadata": {
  "kernelspec": {
   "display_name": "Python 3",
   "language": "python",
   "name": "python3"
  },
  "language_info": {
   "codemirror_mode": {
    "name": "ipython",
    "version": 3
   },
   "file_extension": ".py",
   "mimetype": "text/x-python",
   "name": "python",
   "nbconvert_exporter": "python",
   "pygments_lexer": "ipython3",
   "version": "3.6.3"
  }
 },
 "nbformat": 4,
 "nbformat_minor": 2
}
